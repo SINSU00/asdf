{
 "cells": [
  {
   "cell_type": "code",
   "execution_count": 10,
   "id": "8a2cb741-c754-4866-b26f-fec1b9fa5089",
   "metadata": {},
   "outputs": [],
   "source": [
    "import cv2\n",
    "import numpy as np\n",
    "import openvino as ov"
   ]
  },
  {
   "cell_type": "markdown",
   "id": "664f7bf3-d495-4532-94b8-ce3e5e23a78d",
   "metadata": {},
   "source": [
    "# Webcam"
   ]
  },
  {
   "cell_type": "code",
   "execution_count": 11,
   "id": "b603e096-4af3-48ef-b78d-60c25c9ef9eb",
   "metadata": {},
   "outputs": [],
   "source": [
    "def Main():\n",
    "    camera = cv2.VideoCapture(source)\n",
    "\n",
    "    while(True):\n",
    "\n",
    "        ret, frame = camera.read()\n",
    "\n",
    "        if not ret:\n",
    "            break\n",
    "\n",
    "        cv2.imshow(\"Webcam\", frame)\n",
    "\n",
    "        if cv2.waitKey(1) & 0xFF == ord('q'):\n",
    "            break\n",
    "\n",
    "    camera.release()\n",
    "    cv2.destroyAllWindows()"
   ]
  },
  {
   "cell_type": "markdown",
   "id": "f58949eb-be0f-416e-9a1c-1da52adfbcf9",
   "metadata": {},
   "source": [
    "# Face Detection with the Webcam"
   ]
  },
  {
   "cell_type": "markdown",
   "id": "c697b008-25b3-45d6-a51c-f2d024cc4245",
   "metadata": {},
   "source": [
    "### Load Model"
   ]
  },
  {
   "cell_type": "code",
   "execution_count": 12,
   "id": "c4db3628-0245-414c-8260-087f7378ae02",
   "metadata": {},
   "outputs": [
    {
     "name": "stdout",
     "output_type": "stream",
     "text": [
      "Input shape: [1,3,384,672]\n",
      "Output shape: [1,1,200,7]\n",
      "Input shape: [1,3,64,64]\n",
      "Output shape: [1,5,1,1]\n",
      "Input shape: [1,3,62,62]\n",
      "Output shape: <bound method PyCapsule.output of <CompiledModel:\n",
      "inputs[\n",
      "<ConstOutput: names[data] shape[1,3,62,62] type: f32>\n",
      "]\n",
      "outputs[\n",
      "<ConstOutput: names[prob] shape[1,2,1,1] type: f32>,\n",
      "<ConstOutput: names[age_conv3, fc3_a] shape[1,1,1,1] type: f32>\n",
      "]>>\n"
     ]
    }
   ],
   "source": [
    "core = ov.Core()\n",
    "\n",
    "model_face = core.read_model(model='models/face-detection-adas-0001.xml')\n",
    "compiled_model_face = core.compile_model(model=model_face, device_name=\"CPU\")\n",
    "\n",
    "input_layer_face = compiled_model_face.input(0)\n",
    "output_layer_face = compiled_model_face.output(0)\n",
    "\n",
    "print(\"Input shape:\", input_layer_face.shape)\n",
    "print(\"Output shape:\", output_layer_face.shape)\n",
    "\n",
    "model_emo = core.read_model(model='models/emotions-recognition-retail-0003.xml')\n",
    "compiled_model_emo = core.compile_model(model=model_emo, device_name=\"CPU\")\n",
    "\n",
    "input_layer_emo = compiled_model_emo.input(0)\n",
    "output_layer_emo = compiled_model_emo.output(0)\n",
    "\n",
    "print(\"Input shape:\", input_layer_emo.shape)\n",
    "print(\"Output shape:\", output_layer_emo.shape)\n",
    "\n",
    "model_ag = core.read_model(model='models/age-gender-recognition-retail-0013.xml')\n",
    "compiled_model_ag = core.compile_model(model=model_ag, device_name=\"CPU\")\n",
    "\n",
    "input_layer_ag = compiled_model_ag.input(0)\n",
    "output_layer_ag = compiled_model_ag.output\n",
    "\n",
    "print(\"Input shape:\", input_layer_ag.shape)\n",
    "print(\"Output shape:\", output_layer_ag)"
   ]
  },
  {
   "cell_type": "markdown",
   "id": "9de9d01d-364c-406f-9afd-d8a07d18b43c",
   "metadata": {},
   "source": [
    "### Pre-Process New Input Data"
   ]
  },
  {
   "cell_type": "code",
   "execution_count": 13,
   "id": "fa6cd714-69ad-4a55-9c6b-7ae3e398ef41",
   "metadata": {},
   "outputs": [],
   "source": [
    "def preprocess(frame, input_layer):\n",
    "    N, input_channels, input_height, input_width = input_layer.shape\n",
    "\n",
    "    resized_frame = cv2.resize(frame, (input_width, input_height))\n",
    "    transposed_frame = resized_frame.transpose(2, 0, 1)\n",
    "    input_frame = np.expand_dims(transposed_frame, 0)\n",
    "\n",
    "    return input_frame"
   ]
  },
  {
   "cell_type": "markdown",
   "id": "104975db-3e34-4fa8-8f92-9914a4f09bf5",
   "metadata": {},
   "source": [
    "## Postprocess the results"
   ]
  },
  {
   "cell_type": "markdown",
   "id": "cff63880-1bf2-4ae9-a152-c4c9924cb1ca",
   "metadata": {},
   "source": [
    "### Find the Face Boxes"
   ]
  },
  {
   "cell_type": "code",
   "execution_count": 14,
   "id": "fcf6e289-94c0-483d-baf7-1b80416450ac",
   "metadata": {},
   "outputs": [],
   "source": [
    "def find_faceboxes(frame, results, confidence_threshold):\n",
    "    results = results.squeeze()\n",
    "\n",
    "    scores = results[:,2]\n",
    "    boxes = results[:, -4:]\n",
    "\n",
    "    face_boxes = boxes[scores >= confidence_threshold]\n",
    "    scores = scores[scores >= confidence_threshold]\n",
    "\n",
    "    frame_h, frame_w, frame_channels = frame.shape\n",
    "    \n",
    "    face_boxes = face_boxes*np.array([frame_w, frame_h, frame_w, frame_h])\n",
    "    face_boxes = face_boxes.astype(np.int64)\n",
    "\n",
    "    return face_boxes, scores\n",
    "    "
   ]
  },
  {
   "cell_type": "markdown",
   "id": "1d98803a-f261-442b-96e7-53f19290beae",
   "metadata": {},
   "source": [
    "### Draw the Emotion/Age/Gender"
   ]
  },
  {
   "cell_type": "code",
   "execution_count": 15,
   "id": "5b17f737-2c96-4f5f-8f69-d6eb00f72951",
   "metadata": {},
   "outputs": [],
   "source": [
    "def draw_age_gender_emotion(face_boxes, frame):\n",
    "    EMOTION_NAMES = ['neutral', 'happy', 'sad', 'surprise', 'anger']\n",
    "    show_frame = frame.copy()\n",
    "    \n",
    "    for i in range(len(face_boxes)):\n",
    "        xmin, ymin, xmax, ymax = face_boxes[i]\n",
    "        face = frame[ymin:ymax, xmin:xmax]\n",
    "        # --- emotion ---\n",
    "        input_frame = preprocess(face, input_layer_emo)\n",
    "        results_emo = compiled_model_emo([input_frame])[output_layer_emo]\n",
    "    \n",
    "        results_emo = results_emo.squeeze()\n",
    "        index = np.argmax(results_emo)\n",
    "    \n",
    "        # --- emotion ---\n",
    "\n",
    "        #--- age and gender ---\n",
    "        input_frame_ag = preprocess(face, input_layer_ag)\n",
    "        results_ag = compiled_model_ag([input_frame_ag])\n",
    "        age, gender = results_ag[1], results_ag[0]\n",
    "        age = np.squeeze(age)\n",
    "        age = int(age*100)\n",
    "\n",
    "        gender = np.squeeze(gender)\n",
    "\n",
    "        if (gender[0]>=0.65):\n",
    "            gender = \"female\"\n",
    "            box_color = (200, 200, 0)\n",
    "        \n",
    "        elif (gender[1]>=0.55):\n",
    "            gender = \"male\"\n",
    "            box_color = (0, 200, 200)\n",
    "            \n",
    "        else:\n",
    "            gender = \"unknown\"\n",
    "            box_color = (200, 200, 200)\n",
    "        \n",
    "        #--- age and gender ---\n",
    "        fontScale = frame.shape[1]/750\n",
    "    \n",
    "        text = gender + ' ' + str(age) + ' ' + EMOTION_NAMES[index]\n",
    "        cv2.putText(show_frame, text, (xmin, ymin), cv2.FONT_HERSHEY_SIMPLEX, fontScale, (0, 200, 0), 5)\n",
    "        cv2.rectangle(img=show_frame, pt1=(xmin, ymin), pt2=(xmax, ymax), color=box_color, thickness=2)\n",
    "    \n",
    "    return show_frame"
   ]
  },
  {
   "cell_type": "markdown",
   "id": "9b0947f4-e2bc-4082-9f33-c3ad035e9478",
   "metadata": {},
   "source": [
    "# Run Inference"
   ]
  },
  {
   "cell_type": "code",
   "execution_count": 16,
   "id": "05080ecf-91e3-457b-a638-e24d90a59eec",
   "metadata": {},
   "outputs": [],
   "source": [
    "def Main():\n",
    "    camera = cv2.VideoCapture(source)\n",
    "\n",
    "    while(True):\n",
    "\n",
    "        ret, frame = camera.read()\n",
    "\n",
    "        if not ret:\n",
    "            break\n",
    "\n",
    "        input_frame = preprocess(frame, input_layer_face)\n",
    "        results = compiled_model_face([input_frame])[output_layer_face]\n",
    "        \n",
    "        face_boxes, scores = find_faceboxes(frame, results, confidence_threshold)\n",
    "        show_frame = draw_age_gender_emotion(face_boxes, frame)\n",
    "\n",
    "        \n",
    "        cv2.imshow(\"Webcam\", show_frame)\n",
    "\n",
    "        if cv2.waitKey(1) & 0xFF == ord('q'):\n",
    "            break\n",
    "\n",
    "    camera.release()\n",
    "    cv2.destroyAllWindows()"
   ]
  },
  {
   "cell_type": "code",
   "execution_count": 17,
   "id": "77bfb46e-1d3c-47f3-b6ba-ce5cea0b7e57",
   "metadata": {},
   "outputs": [],
   "source": [
    "confidence_threshold = .95\n",
    "source = 0\n",
    "if __name__ == '__main__':\n",
    "    Main()"
   ]
  }
 ],
 "metadata": {
  "kernelspec": {
   "display_name": "Python 3 (ipykernel)",
   "language": "python",
   "name": "python3"
  },
  "language_info": {
   "codemirror_mode": {
    "name": "ipython",
    "version": 3
   },
   "file_extension": ".py",
   "mimetype": "text/x-python",
   "name": "python",
   "nbconvert_exporter": "python",
   "pygments_lexer": "ipython3",
   "version": "3.11.8"
  }
 },
 "nbformat": 4,
 "nbformat_minor": 5
}
