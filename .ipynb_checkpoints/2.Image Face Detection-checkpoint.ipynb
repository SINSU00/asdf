{
 "cells": [
  {
   "cell_type": "markdown",
   "id": "b1ff827a-e6ea-4d32-9667-822d058f2d75",
   "metadata": {},
   "source": [
    "# Load Model"
   ]
  },
  {
   "cell_type": "code",
   "execution_count": 1,
   "id": "b9b5bc4e-0a48-40cc-916c-43f8b81b5ec3",
   "metadata": {},
   "outputs": [
    {
     "name": "stdout",
     "output_type": "stream",
     "text": [
      "Input shape: [1,3,384,672]\n",
      "Output shape: [1,1,200,7]\n"
     ]
    }
   ],
   "source": [
    "import openvino as ov\n",
    "\n",
    "core = ov.Core()\n",
    "\n",
    "model = core.read_model(model='models/face-detection-adas-0001.xml')\n",
    "compiled_model = core.compile_model(model=model, device_name=\"CPU\")\n",
    "\n",
    "input_layer = compiled_model.input(0)\n",
    "output_layer = compiled_model.output(0)\n",
    "\n",
    "print(\"Input shape:\", input_layer.shape)\n",
    "print(\"Output shape:\", output_layer.shape)"
   ]
  },
  {
   "cell_type": "markdown",
   "id": "e41f754a-b22a-4115-814d-f3fe05add1c7",
   "metadata": {},
   "source": [
    "# Preprocess New Input Data"
   ]
  },
  {
   "cell_type": "markdown",
   "id": "0959ff56-47c3-454f-8034-5c348d2c8b79",
   "metadata": {},
   "source": [
    "### call Image"
   ]
  },
  {
   "cell_type": "code",
   "execution_count": 11,
   "id": "e1bfe45a-82f9-470b-93e0-4e0b9e5c7f92",
   "metadata": {},
   "outputs": [
    {
     "name": "stdout",
     "output_type": "stream",
     "text": [
      "(4000, 4684, 3)\n",
      "(800, 936, 3)\n"
     ]
    }
   ],
   "source": [
    "import cv2\n",
    "import matplotlib.pyplot as plt\n",
    "\n",
    "image = cv2.imread(\"data/person.jpg\")\n",
    "print(image.shape)\n",
    "#plt.imshow(cv2.cvtColor(image, cv2.COLOR_BGR2RGB))\n",
    "\n",
    "image_height, image_width, image_channels=image.shape\n",
    "image = cv2.resize(image, (int(image_width/5), int(image_height/5)))\n",
    "print(image.shape)\n",
    "\n",
    "cv2.imshow(\"Image\", image)\n",
    "cv2.waitKey()\n",
    "cv2.destroyAllWindows()"
   ]
  },
  {
   "cell_type": "code",
   "execution_count": null,
   "id": "73402bac-74ff-4586-8e0b-54555b3b7f26",
   "metadata": {},
   "outputs": [],
   "source": []
  },
  {
   "cell_type": "code",
   "execution_count": null,
   "id": "b549f6c7-bb95-47f9-a182-95381591a05d",
   "metadata": {},
   "outputs": [],
   "source": []
  }
 ],
 "metadata": {
  "kernelspec": {
   "display_name": "Python 3 (ipykernel)",
   "language": "python",
   "name": "python3"
  },
  "language_info": {
   "codemirror_mode": {
    "name": "ipython",
    "version": 3
   },
   "file_extension": ".py",
   "mimetype": "text/x-python",
   "name": "python",
   "nbconvert_exporter": "python",
   "pygments_lexer": "ipython3",
   "version": "3.11.8"
  }
 },
 "nbformat": 4,
 "nbformat_minor": 5
}
